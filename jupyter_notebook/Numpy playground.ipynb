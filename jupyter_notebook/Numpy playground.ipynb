{
 "cells": [
  {
   "cell_type": "markdown",
   "id": "7dfbbe60",
   "metadata": {},
   "source": [
    "Getting started with numpy;\n",
    "why should you use numpy for computation instead of regular python list?\n",
    "1. numpy array have the speed advantage.\n",
    "2. A lot of build in computational function to choose from.\n",
    "3. multidimensionality is easy with numpy."
   ]
  },
  {
   "cell_type": "code",
   "execution_count": 1,
   "id": "d56680b9",
   "metadata": {},
   "outputs": [],
   "source": [
    "import numpy as np;"
   ]
  },
  {
   "cell_type": "code",
   "execution_count": 2,
   "id": "2a1ef09a",
   "metadata": {},
   "outputs": [
    {
     "data": {
      "text/plain": [
       "array([1, 2, 3, 4, 5])"
      ]
     },
     "execution_count": 2,
     "metadata": {},
     "output_type": "execute_result"
    }
   ],
   "source": [
    "#creating a numpy array, 1 dimension;\n",
    "score = [1, 2, 3, 4, 5]\n",
    "score = np.array(score)\n",
    "score"
   ]
  },
  {
   "cell_type": "code",
   "execution_count": 3,
   "id": "f4cec6ab",
   "metadata": {},
   "outputs": [
    {
     "data": {
      "text/plain": [
       "array([[2, 3, 4],\n",
       "       [4, 5, 6],\n",
       "       [6, 7, 8]])"
      ]
     },
     "execution_count": 3,
     "metadata": {},
     "output_type": "execute_result"
    }
   ],
   "source": [
    "#let create a 2 dimensional array using range() to generate the 1 dimensional array;\n",
    "matrix = np.array([range(i, i + 3) for i in [2, 4, 6]])\n",
    "matrix\n"
   ]
  },
  {
   "cell_type": "code",
   "execution_count": 30,
   "id": "c7a54d09",
   "metadata": {},
   "outputs": [
    {
     "name": "stdout",
     "output_type": "stream",
     "text": [
      " 1 dimension zero: [0 0 0 0 0]\n",
      "2 dimension zeros: [[0. 0. 0.]\n",
      " [0. 0. 0.]\n",
      " [0. 0. 0.]\n",
      " [0. 0. 0.]]\n"
     ]
    }
   ],
   "source": [
    "#creating an array from scratch;\n",
    "zero = np.zeros(5, dtype=int)\n",
    "zeros = np.zeros((4, 3), dtype=float)\n",
    "print(\" 1 dimension zero:\", zero)\n",
    "print(\"2 dimension zeros:\", zeros)"
   ]
  },
  {
   "cell_type": "code",
   "execution_count": 5,
   "id": "ba288b79",
   "metadata": {},
   "outputs": [
    {
     "data": {
      "text/plain": [
       "array([ 5, 10, 15, 20, 25, 30, 35, 40])"
      ]
     },
     "execution_count": 5,
     "metadata": {},
     "output_type": "execute_result"
    }
   ],
   "source": [
    "# creating an array with arange()\n",
    "arr = np.arange(5, 45, 5)\n",
    "arr"
   ]
  },
  {
   "cell_type": "code",
   "execution_count": 32,
   "id": "725ebb97",
   "metadata": {},
   "outputs": [
    {
     "data": {
      "text/plain": [
       "array([[5, 2, 4],\n",
       "       [1, 1, 4],\n",
       "       [3, 5, 4]])"
      ]
     },
     "execution_count": 32,
     "metadata": {},
     "output_type": "execute_result"
    }
   ],
   "source": [
    "# create a matrix of random integer;\n",
    "matrix = np.random.randint(1, 6, (3,3))\n",
    "matrix"
   ]
  },
  {
   "cell_type": "code",
   "execution_count": 7,
   "id": "9b284a7c",
   "metadata": {},
   "outputs": [
    {
     "data": {
      "text/plain": [
       "array([[[ 1, 19, 15],\n",
       "        [17, 15,  4],\n",
       "        [12,  0, 13],\n",
       "        [13, 10,  1]],\n",
       "\n",
       "       [[12,  8,  4],\n",
       "        [16, 13, 15],\n",
       "        [15,  6, 14],\n",
       "        [ 5,  8,  7]],\n",
       "\n",
       "       [[ 0, 16, 12],\n",
       "        [ 6, 11, 12],\n",
       "        [ 8, 17,  4],\n",
       "        [ 7,  2,  8]],\n",
       "\n",
       "       [[ 7, 14, 15],\n",
       "        [ 9, 18,  5],\n",
       "        [12, 15, 18],\n",
       "        [ 8, 10,  5]],\n",
       "\n",
       "       [[ 2, 19, 18],\n",
       "        [ 7,  6,  3],\n",
       "        [ 1,  5, 19],\n",
       "        [13,  1, 11]]])"
      ]
     },
     "execution_count": 7,
     "metadata": {},
     "output_type": "execute_result"
    }
   ],
   "source": [
    "# create a 3 dimensional array;\n",
    "three = np.random.randint(20, size=(5, 4, 3))\n",
    "three"
   ]
  },
  {
   "cell_type": "code",
   "execution_count": 8,
   "id": "100a3329",
   "metadata": {},
   "outputs": [
    {
     "name": "stdout",
     "output_type": "stream",
     "text": [
      "dimension:  3\n",
      "shape: (5, 4, 3)\n",
      "size:  60\n"
     ]
    }
   ],
   "source": [
    "# lets get the attributes of the 3 dimension array;\n",
    "print(\"dimension: \", three.ndim)\n",
    "print(\"shape:\", three.shape)\n",
    "print(\"size: \", three.size)\n"
   ]
  },
  {
   "cell_type": "code",
   "execution_count": 9,
   "id": "c1bfb9e3",
   "metadata": {},
   "outputs": [
    {
     "data": {
      "text/plain": [
       "7"
      ]
     },
     "execution_count": 9,
     "metadata": {},
     "output_type": "execute_result"
    }
   ],
   "source": [
    "# selecting items in numpy array is just like in regular python list;\n",
    "x = np.array([1, 2, 4, 6, 7 ,9])\n",
    "x[4]"
   ]
  },
  {
   "cell_type": "code",
   "execution_count": 33,
   "id": "539a4784",
   "metadata": {},
   "outputs": [
    {
     "data": {
      "text/plain": [
       "array([[[ 4,  5, 11],\n",
       "        [14, 11,  1],\n",
       "        [19,  3, 19],\n",
       "        [ 4,  8,  3]],\n",
       "\n",
       "       [[16, 14,  9],\n",
       "        [12, 19, 11],\n",
       "        [ 4, 18, 13],\n",
       "        [11,  5, 17]],\n",
       "\n",
       "       [[19, 14, 14],\n",
       "        [ 3,  6, 16],\n",
       "        [ 3,  7,  2],\n",
       "        [16,  4,  8]],\n",
       "\n",
       "       [[17,  6,  3],\n",
       "        [11,  8,  4],\n",
       "        [ 5,  8,  6],\n",
       "        [10,  6,  3]],\n",
       "\n",
       "       [[ 1, 14,  6],\n",
       "        [10, 16,  5],\n",
       "        [ 3, 10, 17],\n",
       "        [15,  3, 16]]])"
      ]
     },
     "execution_count": 33,
     "metadata": {},
     "output_type": "execute_result"
    }
   ],
   "source": [
    "# create a 3 dimensional array;\n",
    "three = np.random.randint(20, size=(5, 4, 3))\n",
    "three"
   ]
  },
  {
   "cell_type": "code",
   "execution_count": 35,
   "id": "3ae39c97",
   "metadata": {},
   "outputs": [
    {
     "data": {
      "text/plain": [
       "4"
      ]
     },
     "execution_count": 35,
     "metadata": {},
     "output_type": "execute_result"
    }
   ],
   "source": [
    "# selection in multidimensional array;\n",
    "three[0, 0, 0] # this will give us 4"
   ]
  },
  {
   "cell_type": "code",
   "execution_count": 36,
   "id": "cfd0e1ee",
   "metadata": {},
   "outputs": [
    {
     "data": {
      "text/plain": [
       "array([[ 4,  5, 11],\n",
       "       [14, 11,  1],\n",
       "       [19,  3, 19],\n",
       "       [ 4,  8,  3]])"
      ]
     },
     "execution_count": 36,
     "metadata": {},
     "output_type": "execute_result"
    }
   ],
   "source": [
    "# slicing a multidimensional array;\n",
    "# create a 2 dimensional array from three;\n",
    "x3 = three[0, :,]\n",
    "x3"
   ]
  },
  {
   "cell_type": "code",
   "execution_count": 37,
   "id": "29b24200",
   "metadata": {},
   "outputs": [
    {
     "data": {
      "text/plain": [
       "array([ 4, 14, 19,  4])"
      ]
     },
     "execution_count": 37,
     "metadata": {},
     "output_type": "execute_result"
    }
   ],
   "source": [
    "# slice out the first column from x3;\n",
    "x3[:, 0]"
   ]
  },
  {
   "cell_type": "code",
   "execution_count": 39,
   "id": "fae058f7",
   "metadata": {},
   "outputs": [
    {
     "name": "stdout",
     "output_type": "stream",
     "text": [
      "x4 before modification: [ 4 14 19  4]\n",
      "x4 after modification: [ 4  7 19  4]\n",
      "x3 remain the same: [[ 4  5 11]\n",
      " [14 11  1]\n",
      " [19  3 19]\n",
      " [ 4  8  3]]\n"
     ]
    }
   ],
   "source": [
    "# creating copy of x3 rather than a view;\n",
    "# a copy don't change its parent array;\n",
    "x4 = x3[:, 0].copy()\n",
    "print(\"x4 before modification:\", x4)\n",
    "x4[1] = 7\n",
    "print(\"x4 after modification:\", x4)\n",
    "print(\"x3 remain the same:\", x3)"
   ]
  },
  {
   "cell_type": "code",
   "execution_count": 40,
   "id": "1effece1",
   "metadata": {},
   "outputs": [
    {
     "name": "stdout",
     "output_type": "stream",
     "text": [
      "plain x:  [ 0  1  2  3  4  5  6  7  8  9 10 11 12 13 14 15 16 17 18 19]\n",
      "reshaped x:  [[ 0  1  2  3]\n",
      " [ 4  5  6  7]\n",
      " [ 8  9 10 11]\n",
      " [12 13 14 15]\n",
      " [16 17 18 19]]\n"
     ]
    }
   ],
   "source": [
    "# reshaping an array;\n",
    "x = np.arange(20)\n",
    "print(\"plain x: \", x)\n",
    "print(\"reshaped x: \", x.reshape((5, 4)))"
   ]
  },
  {
   "cell_type": "code",
   "execution_count": 41,
   "id": "1aadb8c8",
   "metadata": {},
   "outputs": [
    {
     "data": {
      "text/plain": [
       "array([ 2,  4,  6,  8,  3,  6,  9, 12])"
      ]
     },
     "execution_count": 41,
     "metadata": {},
     "output_type": "execute_result"
    }
   ],
   "source": [
    "# array concatenation and splitting;\n",
    "x = np.array([2, 4, 6, 8])\n",
    "y = np.array([3, 6, 9, 12])\n",
    "np.concatenate([x, y])"
   ]
  },
  {
   "cell_type": "code",
   "execution_count": 42,
   "id": "bb809301",
   "metadata": {},
   "outputs": [
    {
     "data": {
      "text/plain": [
       "array([[ 2,  4,  6,  8],\n",
       "       [ 3,  6,  9, 12]])"
      ]
     },
     "execution_count": 42,
     "metadata": {},
     "output_type": "execute_result"
    }
   ],
   "source": [
    "# concatenation by stacking\n",
    "\n",
    "stack = np.vstack([x, y])\n",
    "stack"
   ]
  },
  {
   "cell_type": "code",
   "execution_count": 17,
   "id": "2a09d091",
   "metadata": {},
   "outputs": [
    {
     "data": {
      "text/plain": [
       "[array([[2, 4],\n",
       "        [3, 6]]),\n",
       " array([[ 6,  8],\n",
       "        [ 9, 12]])]"
      ]
     },
     "execution_count": 17,
     "metadata": {},
     "output_type": "execute_result"
    }
   ],
   "source": [
    "# splitting arrays;\n",
    "# spliting horizontally;\n",
    "np.hsplit(stack, [2])"
   ]
  },
  {
   "cell_type": "code",
   "execution_count": 18,
   "id": "09a7b000",
   "metadata": {},
   "outputs": [
    {
     "data": {
      "text/plain": [
       "array([[5., 5., 5.],\n",
       "       [5., 5., 5.],\n",
       "       [5., 5., 5.]])"
      ]
     },
     "execution_count": 18,
     "metadata": {},
     "output_type": "execute_result"
    }
   ],
   "source": [
    "# computation with numpy using ufunc;\n",
    "zero = np.zeros((3,3))\n",
    "zero = zero + 5\n",
    "zero"
   ]
  },
  {
   "cell_type": "code",
   "execution_count": 19,
   "id": "cf754fdd",
   "metadata": {},
   "outputs": [
    {
     "data": {
      "text/plain": [
       "array([[32., 32., 32.],\n",
       "       [32., 32., 32.],\n",
       "       [32., 32., 32.]])"
      ]
     },
     "execution_count": 19,
     "metadata": {},
     "output_type": "execute_result"
    }
   ],
   "source": [
    "# exponential computation with numpy\n",
    "np.power(2, zero)"
   ]
  },
  {
   "cell_type": "code",
   "execution_count": 20,
   "id": "1c260291",
   "metadata": {},
   "outputs": [
    {
     "data": {
      "text/plain": [
       "array([15., 15., 15.])"
      ]
     },
     "execution_count": 20,
     "metadata": {},
     "output_type": "execute_result"
    }
   ],
   "source": [
    "# adding zero along the 0 axis;\n",
    "np.add.reduce(zero)"
   ]
  },
  {
   "cell_type": "code",
   "execution_count": 21,
   "id": "d05a020b",
   "metadata": {},
   "outputs": [
    {
     "data": {
      "text/plain": [
       "15"
      ]
     },
     "execution_count": 21,
     "metadata": {},
     "output_type": "execute_result"
    }
   ],
   "source": [
    "# playing with aggregation;\n",
    "x = np.array([1, 2, 3, 4, 5])\n",
    "np.sum(x)"
   ]
  },
  {
   "cell_type": "code",
   "execution_count": 22,
   "id": "489863de",
   "metadata": {},
   "outputs": [
    {
     "data": {
      "text/plain": [
       "1"
      ]
     },
     "execution_count": 22,
     "metadata": {},
     "output_type": "execute_result"
    }
   ],
   "source": [
    "np.min(x)"
   ]
  },
  {
   "cell_type": "code",
   "execution_count": 23,
   "id": "0a450b86",
   "metadata": {},
   "outputs": [
    {
     "data": {
      "text/plain": [
       "5"
      ]
     },
     "execution_count": 23,
     "metadata": {},
     "output_type": "execute_result"
    }
   ],
   "source": [
    "np.max(x)"
   ]
  },
  {
   "cell_type": "code",
   "execution_count": 24,
   "id": "1173d559",
   "metadata": {},
   "outputs": [
    {
     "data": {
      "text/plain": [
       "array([[ 0,  1,  2,  3],\n",
       "       [ 4,  5,  6,  7],\n",
       "       [ 8,  9, 10, 11],\n",
       "       [12, 13, 14, 15],\n",
       "       [16, 17, 18, 19]])"
      ]
     },
     "execution_count": 24,
     "metadata": {},
     "output_type": "execute_result"
    }
   ],
   "source": [
    "# multidimensional aggregation;\n",
    "y = np.arange(20).reshape(5, 4)\n",
    "y"
   ]
  },
  {
   "cell_type": "code",
   "execution_count": 25,
   "id": "c1f8a9cb",
   "metadata": {},
   "outputs": [
    {
     "data": {
      "text/plain": [
       "190"
      ]
     },
     "execution_count": 25,
     "metadata": {},
     "output_type": "execute_result"
    }
   ],
   "source": [
    "np.sum(y)"
   ]
  },
  {
   "cell_type": "code",
   "execution_count": 26,
   "id": "7282fdee",
   "metadata": {},
   "outputs": [
    {
     "data": {
      "text/plain": [
       "array([ 6, 22, 38, 54, 70])"
      ]
     },
     "execution_count": 26,
     "metadata": {},
     "output_type": "execute_result"
    }
   ],
   "source": [
    "# summing along the row axis;\n",
    "y.sum(axis=1)"
   ]
  },
  {
   "cell_type": "code",
   "execution_count": 27,
   "id": "cbcb486f",
   "metadata": {
    "scrolled": false
   },
   "outputs": [
    {
     "data": {
      "text/plain": [
       "array([0, 1, 2, 3])"
      ]
     },
     "execution_count": 27,
     "metadata": {},
     "output_type": "execute_result"
    }
   ],
   "source": [
    "# min along the column axis;\n",
    "y.min(axis=0)"
   ]
  },
  {
   "cell_type": "code",
   "execution_count": 44,
   "id": "13471dd6",
   "metadata": {},
   "outputs": [
    {
     "name": "stdout",
     "output_type": "stream",
     "text": [
      "one : [1. 1.]\n",
      "two : [[1. 1.]\n",
      " [1. 1.]]\n"
     ]
    }
   ],
   "source": [
    "# broadcasting in numpy;\n",
    "# this is how numpy handle computation on array of different shape;\n",
    "one = np.ones(2)\n",
    "two = np.ones((2, 2))\n",
    "print(\"one :\", one)     \n",
    "print(\"two :\", two)"
   ]
  },
  {
   "cell_type": "code",
   "execution_count": 46,
   "id": "199c070b",
   "metadata": {},
   "outputs": [
    {
     "data": {
      "text/plain": [
       "array([[2., 2.],\n",
       "       [2., 2.]])"
      ]
     },
     "execution_count": 46,
     "metadata": {},
     "output_type": "execute_result"
    }
   ],
   "source": [
    "\"\"\"\n",
    "one and two will add up even though they \n",
    "are not if the same shape;\n",
    "this is possible through broadcasting\n",
    "\"\"\"\n",
    "one + two"
   ]
  },
  {
   "cell_type": "code",
   "execution_count": 47,
   "id": "3bcb31c6",
   "metadata": {},
   "outputs": [
    {
     "data": {
      "text/plain": [
       "array([6, 9, 8])"
      ]
     },
     "execution_count": 47,
     "metadata": {},
     "output_type": "execute_result"
    }
   ],
   "source": [
    "# mask in numpy, passing condition as index;\n",
    "x = np.array([2, 6, 9, 5, 1, 8])\n",
    "x[x >= 6]"
   ]
  },
  {
   "cell_type": "code",
   "execution_count": 48,
   "id": "9694af7e",
   "metadata": {},
   "outputs": [
    {
     "data": {
      "text/plain": [
       "array([6, 5, 8])"
      ]
     },
     "execution_count": 48,
     "metadata": {},
     "output_type": "execute_result"
    }
   ],
   "source": [
    "# fancy indexing, using array as index;\n",
    "x[[1, 3, 5]]"
   ]
  },
  {
   "cell_type": "code",
   "execution_count": 49,
   "id": "8bcc65fa",
   "metadata": {},
   "outputs": [
    {
     "data": {
      "text/plain": [
       "array([[[ 6,  9,  2],\n",
       "        [ 5, 10,  9],\n",
       "        [ 6, 11,  3]],\n",
       "\n",
       "       [[ 8,  4,  7],\n",
       "        [11,  6, 11],\n",
       "        [ 1,  0,  5]],\n",
       "\n",
       "       [[11,  0,  6],\n",
       "        [11,  8, 13],\n",
       "        [10,  9,  8]],\n",
       "\n",
       "       [[12, 12, 13],\n",
       "        [ 2,  0,  0],\n",
       "        [ 0,  0, 14]]])"
      ]
     },
     "execution_count": 49,
     "metadata": {},
     "output_type": "execute_result"
    }
   ],
   "source": [
    "# combining indexing in numpy;\n",
    "x = np.random.randint(15, size=(4, 3, 3))\n",
    "x"
   ]
  },
  {
   "cell_type": "code",
   "execution_count": 50,
   "id": "73f9ebaf",
   "metadata": {},
   "outputs": [
    {
     "data": {
      "text/plain": [
       "array([[[ 9,  2],\n",
       "        [10,  9],\n",
       "        [11,  3]],\n",
       "\n",
       "       [[ 4,  7],\n",
       "        [ 6, 11],\n",
       "        [ 0,  5]],\n",
       "\n",
       "       [[ 0,  6],\n",
       "        [ 8, 13],\n",
       "        [ 9,  8]],\n",
       "\n",
       "       [[12, 13],\n",
       "        [ 0,  0],\n",
       "        [ 0, 14]]])"
      ]
     },
     "execution_count": 50,
     "metadata": {},
     "output_type": "execute_result"
    }
   ],
   "source": [
    "\"\"\"\n",
    "create another multidimensional array \n",
    "of 2 item from x with combined indexing;\n",
    "\"\"\"\n",
    "x[:, :, [1,2]]"
   ]
  },
  {
   "cell_type": "code",
   "execution_count": 51,
   "id": "58b38c0f",
   "metadata": {},
   "outputs": [
    {
     "data": {
      "text/plain": [
       "array([[3, 6, 7, 8],\n",
       "       [0, 1, 2, 8],\n",
       "       [3, 3, 6, 8],\n",
       "       [2, 8, 9, 9]])"
      ]
     },
     "execution_count": 51,
     "metadata": {},
     "output_type": "execute_result"
    }
   ],
   "source": [
    "# sorting arrays in numpy;\n",
    "x = np.random.randint(10, size=(4,4))\n",
    "np.sort(x) # sorting along the x axis"
   ]
  },
  {
   "cell_type": "code",
   "execution_count": 52,
   "id": "80f89df1",
   "metadata": {},
   "outputs": [
    {
     "data": {
      "text/plain": [
       "array([[2, 0, 6, 1],\n",
       "       [2, 3, 8, 3],\n",
       "       [3, 7, 8, 8],\n",
       "       [6, 9, 8, 9]])"
      ]
     },
     "execution_count": 52,
     "metadata": {},
     "output_type": "execute_result"
    }
   ],
   "source": [
    "# lets. sort x along the y axis;\n",
    "np.sort(x, axis=0)"
   ]
  },
  {
   "cell_type": "code",
   "execution_count": 53,
   "id": "7b0bedac",
   "metadata": {},
   "outputs": [],
   "source": [
    "\"\"\"\n",
    "structured array in numpy;\n",
    "creating a structure array with numpy;\n",
    "it is good way for stroing related data\n",
    "\"\"\"\n",
    "data = np.zeros(5, dtype=([('country', 'S10'), ('founded', 'i4'), ('population', 'i4')]))"
   ]
  },
  {
   "cell_type": "code",
   "execution_count": 55,
   "id": "7687cddd",
   "metadata": {},
   "outputs": [],
   "source": [
    "data_rec = data.view(np.recarray)"
   ]
  },
  {
   "cell_type": "code",
   "execution_count": 56,
   "id": "e91639b2",
   "metadata": {},
   "outputs": [],
   "source": [
    "data_rec.country = np.array([\"nigeria\", \"ghana\",\n",
    "         \"isreal\", \"france\", \"spain\"])\n",
    "data_rec.founded = np.array([1990, 1880, 1770,\n",
    "                   1660, 1550])\n",
    "data_rec.population = np.array([3000, 4000, 5000,\n",
    "                6000, 7000])"
   ]
  },
  {
   "cell_type": "code",
   "execution_count": 59,
   "id": "b0cc2487",
   "metadata": {},
   "outputs": [
    {
     "data": {
      "text/plain": [
       "array([b'nigeria', b'ghana', b'isreal', b'france', b'spain'], dtype='|S10')"
      ]
     },
     "execution_count": 59,
     "metadata": {},
     "output_type": "execute_result"
    }
   ],
   "source": [
    "data_rec.country"
   ]
  },
  {
   "cell_type": "code",
   "execution_count": 57,
   "id": "4ea8b57b",
   "metadata": {},
   "outputs": [
    {
     "data": {
      "text/plain": [
       "(b'nigeria', 1990, 3000)"
      ]
     },
     "execution_count": 57,
     "metadata": {},
     "output_type": "execute_result"
    }
   ],
   "source": [
    "data_rec[0]"
   ]
  },
  {
   "cell_type": "code",
   "execution_count": 58,
   "id": "47c86c7e",
   "metadata": {},
   "outputs": [
    {
     "data": {
      "text/plain": [
       "b'nigeria'"
      ]
     },
     "execution_count": 58,
     "metadata": {},
     "output_type": "execute_result"
    }
   ],
   "source": [
    "data_rec.country[0]"
   ]
  }
 ],
 "metadata": {
  "kernelspec": {
   "display_name": "Python 3 (ipykernel)",
   "language": "python",
   "name": "python3"
  },
  "language_info": {
   "codemirror_mode": {
    "name": "ipython",
    "version": 3
   },
   "file_extension": ".py",
   "mimetype": "text/x-python",
   "name": "python",
   "nbconvert_exporter": "python",
   "pygments_lexer": "ipython3",
   "version": "3.9.7"
  }
 },
 "nbformat": 4,
 "nbformat_minor": 5
}

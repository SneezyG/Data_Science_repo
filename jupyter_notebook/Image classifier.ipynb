{
 "cells": [
  {
   "cell_type": "markdown",
   "id": "e880df7d",
   "metadata": {},
   "source": [
    "This notebook demonstrate the process of building image Classification system. The dataset is MNIST dataset, which is a set of 70,000(test=10000 & train=60000) small images of digits\n",
    "handwritten by high school students and employees of the US Census Bureau."
   ]
  },
  {
   "cell_type": "markdown",
   "id": "67cae5ee",
   "metadata": {},
   "source": [
    "let's get started"
   ]
  },
  {
   "cell_type": "markdown",
   "id": "68fe4851",
   "metadata": {},
   "source": [
    "Each row in the dataset contain information of a particular digit, in each row you will find a total of 785 features, 784 features representing pixel information of the digit and the remaining one feature representing the digit value ranging from 0 - 9"
   ]
  },
  {
   "cell_type": "markdown",
   "id": "3475e4d1",
   "metadata": {},
   "source": [
    "There are 70,000 images, and each image has 784 features. This is because each image is 28×28 pixels,\n",
    "and each feature simply represents one pixel’s intensity, from 0 (white) to 255 (black). "
   ]
  },
  {
   "cell_type": "code",
   "execution_count": 1,
   "id": "585585f7",
   "metadata": {},
   "outputs": [],
   "source": [
    "import pandas as pd\n",
    "import numpy as np\n",
    "from sklearn.linear_model import SGDClassifier\n",
    "%matplotlib inline\n",
    "import matplotlib\n",
    "import matplotlib.pyplot as plt"
   ]
  },
  {
   "cell_type": "code",
   "execution_count": 29,
   "id": "1bed63bf",
   "metadata": {},
   "outputs": [],
   "source": [
    "from sklearn.model_selection import cross_val_score, cross_val_predict, cross_val_predict                      \n",
    "from sklearn.metrics import confusion_matrix\n",
    "from sklearn.metrics import precision_score, recall_score, f1_score\n",
    "from sklearn.ensemble import RandomForestClassifier\n",
    "\n"
   ]
  },
  {
   "cell_type": "code",
   "execution_count": 3,
   "id": "3083bf3c",
   "metadata": {},
   "outputs": [
    {
     "data": {
      "text/html": [
       "<div>\n",
       "<style scoped>\n",
       "    .dataframe tbody tr th:only-of-type {\n",
       "        vertical-align: middle;\n",
       "    }\n",
       "\n",
       "    .dataframe tbody tr th {\n",
       "        vertical-align: top;\n",
       "    }\n",
       "\n",
       "    .dataframe thead th {\n",
       "        text-align: right;\n",
       "    }\n",
       "</style>\n",
       "<table border=\"1\" class=\"dataframe\">\n",
       "  <thead>\n",
       "    <tr style=\"text-align: right;\">\n",
       "      <th></th>\n",
       "      <th>label</th>\n",
       "      <th>1x1</th>\n",
       "      <th>1x2</th>\n",
       "      <th>1x3</th>\n",
       "      <th>1x4</th>\n",
       "      <th>1x5</th>\n",
       "      <th>1x6</th>\n",
       "      <th>1x7</th>\n",
       "      <th>1x8</th>\n",
       "      <th>1x9</th>\n",
       "      <th>...</th>\n",
       "      <th>28x19</th>\n",
       "      <th>28x20</th>\n",
       "      <th>28x21</th>\n",
       "      <th>28x22</th>\n",
       "      <th>28x23</th>\n",
       "      <th>28x24</th>\n",
       "      <th>28x25</th>\n",
       "      <th>28x26</th>\n",
       "      <th>28x27</th>\n",
       "      <th>28x28</th>\n",
       "    </tr>\n",
       "  </thead>\n",
       "  <tbody>\n",
       "    <tr>\n",
       "      <th>0</th>\n",
       "      <td>5</td>\n",
       "      <td>0</td>\n",
       "      <td>0</td>\n",
       "      <td>0</td>\n",
       "      <td>0</td>\n",
       "      <td>0</td>\n",
       "      <td>0</td>\n",
       "      <td>0</td>\n",
       "      <td>0</td>\n",
       "      <td>0</td>\n",
       "      <td>...</td>\n",
       "      <td>0</td>\n",
       "      <td>0</td>\n",
       "      <td>0</td>\n",
       "      <td>0</td>\n",
       "      <td>0</td>\n",
       "      <td>0</td>\n",
       "      <td>0</td>\n",
       "      <td>0</td>\n",
       "      <td>0</td>\n",
       "      <td>0</td>\n",
       "    </tr>\n",
       "    <tr>\n",
       "      <th>1</th>\n",
       "      <td>0</td>\n",
       "      <td>0</td>\n",
       "      <td>0</td>\n",
       "      <td>0</td>\n",
       "      <td>0</td>\n",
       "      <td>0</td>\n",
       "      <td>0</td>\n",
       "      <td>0</td>\n",
       "      <td>0</td>\n",
       "      <td>0</td>\n",
       "      <td>...</td>\n",
       "      <td>0</td>\n",
       "      <td>0</td>\n",
       "      <td>0</td>\n",
       "      <td>0</td>\n",
       "      <td>0</td>\n",
       "      <td>0</td>\n",
       "      <td>0</td>\n",
       "      <td>0</td>\n",
       "      <td>0</td>\n",
       "      <td>0</td>\n",
       "    </tr>\n",
       "    <tr>\n",
       "      <th>2</th>\n",
       "      <td>4</td>\n",
       "      <td>0</td>\n",
       "      <td>0</td>\n",
       "      <td>0</td>\n",
       "      <td>0</td>\n",
       "      <td>0</td>\n",
       "      <td>0</td>\n",
       "      <td>0</td>\n",
       "      <td>0</td>\n",
       "      <td>0</td>\n",
       "      <td>...</td>\n",
       "      <td>0</td>\n",
       "      <td>0</td>\n",
       "      <td>0</td>\n",
       "      <td>0</td>\n",
       "      <td>0</td>\n",
       "      <td>0</td>\n",
       "      <td>0</td>\n",
       "      <td>0</td>\n",
       "      <td>0</td>\n",
       "      <td>0</td>\n",
       "    </tr>\n",
       "    <tr>\n",
       "      <th>3</th>\n",
       "      <td>1</td>\n",
       "      <td>0</td>\n",
       "      <td>0</td>\n",
       "      <td>0</td>\n",
       "      <td>0</td>\n",
       "      <td>0</td>\n",
       "      <td>0</td>\n",
       "      <td>0</td>\n",
       "      <td>0</td>\n",
       "      <td>0</td>\n",
       "      <td>...</td>\n",
       "      <td>0</td>\n",
       "      <td>0</td>\n",
       "      <td>0</td>\n",
       "      <td>0</td>\n",
       "      <td>0</td>\n",
       "      <td>0</td>\n",
       "      <td>0</td>\n",
       "      <td>0</td>\n",
       "      <td>0</td>\n",
       "      <td>0</td>\n",
       "    </tr>\n",
       "    <tr>\n",
       "      <th>4</th>\n",
       "      <td>9</td>\n",
       "      <td>0</td>\n",
       "      <td>0</td>\n",
       "      <td>0</td>\n",
       "      <td>0</td>\n",
       "      <td>0</td>\n",
       "      <td>0</td>\n",
       "      <td>0</td>\n",
       "      <td>0</td>\n",
       "      <td>0</td>\n",
       "      <td>...</td>\n",
       "      <td>0</td>\n",
       "      <td>0</td>\n",
       "      <td>0</td>\n",
       "      <td>0</td>\n",
       "      <td>0</td>\n",
       "      <td>0</td>\n",
       "      <td>0</td>\n",
       "      <td>0</td>\n",
       "      <td>0</td>\n",
       "      <td>0</td>\n",
       "    </tr>\n",
       "    <tr>\n",
       "      <th>...</th>\n",
       "      <td>...</td>\n",
       "      <td>...</td>\n",
       "      <td>...</td>\n",
       "      <td>...</td>\n",
       "      <td>...</td>\n",
       "      <td>...</td>\n",
       "      <td>...</td>\n",
       "      <td>...</td>\n",
       "      <td>...</td>\n",
       "      <td>...</td>\n",
       "      <td>...</td>\n",
       "      <td>...</td>\n",
       "      <td>...</td>\n",
       "      <td>...</td>\n",
       "      <td>...</td>\n",
       "      <td>...</td>\n",
       "      <td>...</td>\n",
       "      <td>...</td>\n",
       "      <td>...</td>\n",
       "      <td>...</td>\n",
       "      <td>...</td>\n",
       "    </tr>\n",
       "    <tr>\n",
       "      <th>59995</th>\n",
       "      <td>8</td>\n",
       "      <td>0</td>\n",
       "      <td>0</td>\n",
       "      <td>0</td>\n",
       "      <td>0</td>\n",
       "      <td>0</td>\n",
       "      <td>0</td>\n",
       "      <td>0</td>\n",
       "      <td>0</td>\n",
       "      <td>0</td>\n",
       "      <td>...</td>\n",
       "      <td>0</td>\n",
       "      <td>0</td>\n",
       "      <td>0</td>\n",
       "      <td>0</td>\n",
       "      <td>0</td>\n",
       "      <td>0</td>\n",
       "      <td>0</td>\n",
       "      <td>0</td>\n",
       "      <td>0</td>\n",
       "      <td>0</td>\n",
       "    </tr>\n",
       "    <tr>\n",
       "      <th>59996</th>\n",
       "      <td>3</td>\n",
       "      <td>0</td>\n",
       "      <td>0</td>\n",
       "      <td>0</td>\n",
       "      <td>0</td>\n",
       "      <td>0</td>\n",
       "      <td>0</td>\n",
       "      <td>0</td>\n",
       "      <td>0</td>\n",
       "      <td>0</td>\n",
       "      <td>...</td>\n",
       "      <td>0</td>\n",
       "      <td>0</td>\n",
       "      <td>0</td>\n",
       "      <td>0</td>\n",
       "      <td>0</td>\n",
       "      <td>0</td>\n",
       "      <td>0</td>\n",
       "      <td>0</td>\n",
       "      <td>0</td>\n",
       "      <td>0</td>\n",
       "    </tr>\n",
       "    <tr>\n",
       "      <th>59997</th>\n",
       "      <td>5</td>\n",
       "      <td>0</td>\n",
       "      <td>0</td>\n",
       "      <td>0</td>\n",
       "      <td>0</td>\n",
       "      <td>0</td>\n",
       "      <td>0</td>\n",
       "      <td>0</td>\n",
       "      <td>0</td>\n",
       "      <td>0</td>\n",
       "      <td>...</td>\n",
       "      <td>0</td>\n",
       "      <td>0</td>\n",
       "      <td>0</td>\n",
       "      <td>0</td>\n",
       "      <td>0</td>\n",
       "      <td>0</td>\n",
       "      <td>0</td>\n",
       "      <td>0</td>\n",
       "      <td>0</td>\n",
       "      <td>0</td>\n",
       "    </tr>\n",
       "    <tr>\n",
       "      <th>59998</th>\n",
       "      <td>6</td>\n",
       "      <td>0</td>\n",
       "      <td>0</td>\n",
       "      <td>0</td>\n",
       "      <td>0</td>\n",
       "      <td>0</td>\n",
       "      <td>0</td>\n",
       "      <td>0</td>\n",
       "      <td>0</td>\n",
       "      <td>0</td>\n",
       "      <td>...</td>\n",
       "      <td>0</td>\n",
       "      <td>0</td>\n",
       "      <td>0</td>\n",
       "      <td>0</td>\n",
       "      <td>0</td>\n",
       "      <td>0</td>\n",
       "      <td>0</td>\n",
       "      <td>0</td>\n",
       "      <td>0</td>\n",
       "      <td>0</td>\n",
       "    </tr>\n",
       "    <tr>\n",
       "      <th>59999</th>\n",
       "      <td>8</td>\n",
       "      <td>0</td>\n",
       "      <td>0</td>\n",
       "      <td>0</td>\n",
       "      <td>0</td>\n",
       "      <td>0</td>\n",
       "      <td>0</td>\n",
       "      <td>0</td>\n",
       "      <td>0</td>\n",
       "      <td>0</td>\n",
       "      <td>...</td>\n",
       "      <td>0</td>\n",
       "      <td>0</td>\n",
       "      <td>0</td>\n",
       "      <td>0</td>\n",
       "      <td>0</td>\n",
       "      <td>0</td>\n",
       "      <td>0</td>\n",
       "      <td>0</td>\n",
       "      <td>0</td>\n",
       "      <td>0</td>\n",
       "    </tr>\n",
       "  </tbody>\n",
       "</table>\n",
       "<p>60000 rows × 785 columns</p>\n",
       "</div>"
      ],
      "text/plain": [
       "       label  1x1  1x2  1x3  1x4  1x5  1x6  1x7  1x8  1x9  ...  28x19  28x20  \\\n",
       "0          5    0    0    0    0    0    0    0    0    0  ...      0      0   \n",
       "1          0    0    0    0    0    0    0    0    0    0  ...      0      0   \n",
       "2          4    0    0    0    0    0    0    0    0    0  ...      0      0   \n",
       "3          1    0    0    0    0    0    0    0    0    0  ...      0      0   \n",
       "4          9    0    0    0    0    0    0    0    0    0  ...      0      0   \n",
       "...      ...  ...  ...  ...  ...  ...  ...  ...  ...  ...  ...    ...    ...   \n",
       "59995      8    0    0    0    0    0    0    0    0    0  ...      0      0   \n",
       "59996      3    0    0    0    0    0    0    0    0    0  ...      0      0   \n",
       "59997      5    0    0    0    0    0    0    0    0    0  ...      0      0   \n",
       "59998      6    0    0    0    0    0    0    0    0    0  ...      0      0   \n",
       "59999      8    0    0    0    0    0    0    0    0    0  ...      0      0   \n",
       "\n",
       "       28x21  28x22  28x23  28x24  28x25  28x26  28x27  28x28  \n",
       "0          0      0      0      0      0      0      0      0  \n",
       "1          0      0      0      0      0      0      0      0  \n",
       "2          0      0      0      0      0      0      0      0  \n",
       "3          0      0      0      0      0      0      0      0  \n",
       "4          0      0      0      0      0      0      0      0  \n",
       "...      ...    ...    ...    ...    ...    ...    ...    ...  \n",
       "59995      0      0      0      0      0      0      0      0  \n",
       "59996      0      0      0      0      0      0      0      0  \n",
       "59997      0      0      0      0      0      0      0      0  \n",
       "59998      0      0      0      0      0      0      0      0  \n",
       "59999      0      0      0      0      0      0      0      0  \n",
       "\n",
       "[60000 rows x 785 columns]"
      ]
     },
     "execution_count": 3,
     "metadata": {},
     "output_type": "execute_result"
    }
   ],
   "source": [
    "# let's load the dataset;\n",
    "train_path = \"/storage/emulated/0/csv/mnist/mnist_train.csv\"\n",
    "test_path = \"/storage/emulated/0/csv/mnist/mnist_test.csv\"\n",
    "train = pd.read_csv(train_path)                                                   \n",
    "test = pd.read_csv(test_path)\n",
    "\n",
    "# let's have a look at the dataset;\n",
    "train\n"
   ]
  },
  {
   "cell_type": "markdown",
   "id": "0fc10004",
   "metadata": {},
   "source": [
    "i don't lie, here it is as i described it,"
   ]
  },
  {
   "cell_type": "code",
   "execution_count": 4,
   "id": "c8eef68f",
   "metadata": {},
   "outputs": [],
   "source": [
    "# let's seperate the predictors and label in the training set.                                \n",
    "x = np.array(train.drop(columns=[\"label\"]))\n",
    "y = np.array(train[\"label\"])\n"
   ]
  },
  {
   "cell_type": "code",
   "execution_count": 5,
   "id": "6d479288",
   "metadata": {},
   "outputs": [
    {
     "name": "stdout",
     "output_type": "stream",
     "text": [
      "X:  (60000, 784)\n",
      "Y:  (60000,)\n"
     ]
    }
   ],
   "source": [
    "# let's get thier shapes;\n",
    "print(\"X: \", x.shape) # (60000, 784)\n",
    "print(\"Y: \", y.shape) # (60000)"
   ]
  },
  {
   "cell_type": "markdown",
   "id": "3496dbec",
   "metadata": {},
   "source": [
    "Let’s take a peek at\n",
    "one digit from the dataset. All we need to do is grab an instance’s feature vector, reshape it to a 28×28\n",
    "array, and display it using Matplotlib’s imshow() function, let's grab our gears\n"
   ]
  },
  {
   "cell_type": "code",
   "execution_count": 6,
   "id": "3f17ee40",
   "metadata": {},
   "outputs": [
    {
     "data": {
      "image/png": "[encoded data removed]",
      "text/plain": [
       "<Figure size 432x288 with 1 Axes>"
      ]
     },
     "metadata": {
      "needs_background": "light"
     },
     "output_type": "display_data"
    }
   ],
   "source": [
    "one_digit = x[4000]\n",
    "digit = one_digit.reshape(28, 28)                                                \n",
    "\n",
    "plt.imshow(digit, cmap = matplotlib.cm.binary,\n",
    "           interpolation=\"nearest\")\n",
    "plt.axis(\"off\")\n",
    "plt.show()\n",
    "\n"
   ]
  },
  {
   "cell_type": "markdown",
   "id": "593f3576",
   "metadata": {},
   "source": [
    "this looks like a seven, let's get it label to confirm this."
   ]
  },
  {
   "cell_type": "code",
   "execution_count": 7,
   "id": "9f8515c9",
   "metadata": {},
   "outputs": [
    {
     "data": {
      "text/plain": [
       "7"
      ]
     },
     "execution_count": 7,
     "metadata": {},
     "output_type": "execute_result"
    }
   ],
   "source": [
    "digit = y[4000]\n",
    "digit\n",
    "\n"
   ]
  },
  {
   "cell_type": "markdown",
   "id": "7e07e770",
   "metadata": {},
   "source": [
    "And voila, it is seven indeed"
   ]
  },
  {
   "cell_type": "code",
   "execution_count": 8,
   "id": "d4a4c2ab",
   "metadata": {},
   "outputs": [
    {
     "name": "stdout",
     "output_type": "stream",
     "text": [
      "x_test:  (10000, 784)\n",
      "y_test:  (10000,)\n"
     ]
    }
   ],
   "source": [
    "# let's seperate the predictors and label in the test set.                                \n",
    "x_test= np.array(test.drop(columns=[\"label\"]))\n",
    "y_test = np.array(test[\"label\"])\n",
    "\n",
    "print(\"x_test: \", x_test.shape) # (10000, 785)\n",
    "print(\"y_test: \", y_test.shape) # (10000)\n"
   ]
  },
  {
   "cell_type": "markdown",
   "id": "c290fd51",
   "metadata": {},
   "source": [
    "And now, we have our test set seperate from the training set. Each of the set have their predictor/features seperate from their labels"
   ]
  },
  {
   "cell_type": "markdown",
   "id": "2c4de0ab",
   "metadata": {},
   "source": [
    "Let’s also shuffle the training set; this will guarantee that all cross-validation folds will be similar (you\n",
    "don’t want one fold to be missing some digits). Moreover, some learning algorithms are sensitive to the\n",
    "order of the training instances, and they perform poorly if they get many similar instances in a row.\n",
    "Shuffling the dataset ensures that this won’t happen\n"
   ]
  },
  {
   "cell_type": "code",
   "execution_count": 9,
   "id": "b096a983",
   "metadata": {},
   "outputs": [],
   "source": [
    "shuffle_index = np.random.permutation(60000)                       \n",
    "x_train, y_train = x[shuffle_index], y[shuffle_index]\n",
    "\n"
   ]
  },
  {
   "cell_type": "markdown",
   "id": "04c7a569",
   "metadata": {},
   "source": [
    "starting with a simple Ml algorithm when training model is a good approach, because at the end of the day, a dataset will choose the perfect algorithm for itself and not you will be choosing for it."
   ]
  },
  {
   "cell_type": "markdown",
   "id": "961f63fd",
   "metadata": {},
   "source": [
    "so let's start training our model, Let’s simplify the problem for now and only try to identify one digit."
   ]
  },
  {
   "cell_type": "markdown",
   "id": "b678a2cf",
   "metadata": {},
   "source": [
    "for example, the number 7. This “7-\n",
    "detector” will be an example of a binary classifier, capable of distinguishing between just two classes, 7\n",
    "and not-7. Let’s create the target vectors for this classification task\n"
   ]
  },
  {
   "cell_type": "code",
   "execution_count": 10,
   "id": "2b1c609a",
   "metadata": {
    "scrolled": false
   },
   "outputs": [
    {
     "data": {
      "text/plain": [
       "False"
      ]
     },
     "execution_count": 10,
     "metadata": {},
     "output_type": "execute_result"
    }
   ],
   "source": [
    "y_train_7 = (y_train == 7) # create a Boolean label array for the training set.                          \n",
    "y_test_7 = (y_test == 7) # create a Boolean label array for the test set\n",
    "\n",
    "# let's verify that;\n",
    "y_train_7[1000]  # false\n"
   ]
  },
  {
   "cell_type": "markdown",
   "id": "ee9cfbcd",
   "metadata": {},
   "source": [
    "Okay, now let’s pick a classifier and train it. A good place to start is with a Stochastic Gradient Descent\n",
    "(SGD) classifier, using Scikit-Learn’s SGDClassifier class. This classifier has the advantage of being capable\n",
    "of handling very large datasets efficiently. This is in part because SGD deals with training instances\n",
    "independently, one at a time (which also makes SGD well suited for online learning), as we will see later.\n",
    "Let’s create an SGDClassifier and train it on the whole training set:\n"
   ]
  },
  {
   "cell_type": "code",
   "execution_count": 13,
   "id": "a80b3f28",
   "metadata": {},
   "outputs": [
    {
     "data": {
      "text/plain": [
       "SGDClassifier(random_state=42)"
      ]
     },
     "execution_count": 13,
     "metadata": {},
     "output_type": "execute_result"
    }
   ],
   "source": [
    "sgd_clf = SGDClassifier(random_state=42)\n",
    "sgd_clf.fit(x_train, y_train_7)\n",
    "\n"
   ]
  },
  {
   "cell_type": "code",
   "execution_count": null,
   "id": "03f161bb",
   "metadata": {},
   "outputs": [],
   "source": [
    "sgd_clf.fit(x_train, y_train_7)"
   ]
  },
  {
   "cell_type": "markdown",
   "id": "8348a6ae",
   "metadata": {},
   "source": [
    "Now you can use it to detect images of the number 7, \n",
    "let's verify this using the image we plot earlier"
   ]
  },
  {
   "cell_type": "code",
   "execution_count": 14,
   "id": "26b4315e",
   "metadata": {},
   "outputs": [
    {
     "data": {
      "text/plain": [
       "array([ True])"
      ]
     },
     "execution_count": 14,
     "metadata": {},
     "output_type": "execute_result"
    }
   ],
   "source": [
    "sgd_clf.predict([one_digit])                                     \n",
    "\n",
    "# this will output True, \n",
    "# because the image plotted ealier is seven(7)\n",
    "\n"
   ]
  },
  {
   "cell_type": "markdown",
   "id": "0f5cf4ee",
   "metadata": {},
   "source": [
    "Looks like it guessed right in this particular\n",
    "case! Now, let’s evaluate this model’s performance"
   ]
  },
  {
   "cell_type": "markdown",
   "id": "64308dc8",
   "metadata": {},
   "source": [
    "let's measure the accuracy of the model using cross validation of 3 folds"
   ]
  },
  {
   "cell_type": "code",
   "execution_count": 15,
   "id": "1548e898",
   "metadata": {},
   "outputs": [
    {
     "data": {
      "text/plain": [
       "array([0.98145, 0.9766 , 0.97795])"
      ]
     },
     "execution_count": 15,
     "metadata": {},
     "output_type": "execute_result"
    }
   ],
   "source": [
    "cross_val_score(sgd_clf, x_train, y_train_7, cv=3,\n",
    "                scoring=\"accuracy\")\n",
    "\n"
   ]
  },
  {
   "cell_type": "markdown",
   "id": "d5ea3468",
   "metadata": {},
   "source": [
    "Wow! Above 95% accuracy (ratio of correct predictions) on all cross-validation folds? This looks amazing,\n",
    "doesn’t it? Well, before you get too excited just know that even a dummy classifier that just classify every image as not seven will have an accuracy of 90% because image that are seven are just like 10% of the dataset."
   ]
  },
  {
   "cell_type": "markdown",
   "id": "680c1b63",
   "metadata": {},
   "source": [
    "This demonstrates why accuracy is generally not the preferred performance measure for classifiers,\n",
    "especially when you are dealing with skewed datasets. And that leads us to the confusion matrix.\n"
   ]
  },
  {
   "cell_type": "markdown",
   "id": "7885820f",
   "metadata": {},
   "source": [
    "A much better way to evaluate the performance of a classifier is to look at the confusion matrix"
   ]
  },
  {
   "cell_type": "code",
   "execution_count": 18,
   "id": "30ac0610",
   "metadata": {},
   "outputs": [
    {
     "data": {
      "text/plain": [
       "array([[53360,   375],\n",
       "       [  905,  5360]])"
      ]
     },
     "execution_count": 18,
     "metadata": {},
     "output_type": "execute_result"
    }
   ],
   "source": [
    "y_train_pred = cross_val_predict(sgd_clf, x_train, y_train_7, cv=3)                       \n",
    "confusion_matrix(y_train_7, y_train_pred)\n",
    "\n"
   ]
  },
  {
   "cell_type": "markdown",
   "id": "fdb8f646",
   "metadata": {},
   "source": [
    "Each row in a confusion matrix represents an actual class, while each column represents a predicted\n",
    "class. The first row of this matrix considers non-7 images (the negative class): 53,360 of them were\n",
    "correctly classified as non-7s (they are called true negatives), while the remaining 375 were wrongly\n",
    "classified as 7s (false positives). The second row considers the images of 7s (the positive class): 905\n",
    "were wrongly classified as non-7s (false negatives), while the remaining 5,360 were correctly classified as\n",
    "7s (true positives). A perfect classifier would have only true positives and true negatives, so its confusion\n",
    "matrix would have nonzero values only on its main diagonal (top left to bottom right):"
   ]
  },
  {
   "cell_type": "markdown",
   "id": "c7f2a941",
   "metadata": {},
   "source": [
    "The confusion matrix gives you a lot of information, but sometimes you may prefer a more concise metric.\n",
    "some interesting are the precision and recall"
   ]
  },
  {
   "cell_type": "markdown",
   "id": "a961d135",
   "metadata": {},
   "source": [
    "Scikit-Learn provides several functions to compute classifier metrics, including precision and recall, let's get it\n"
   ]
  },
  {
   "cell_type": "code",
   "execution_count": 20,
   "id": "29394c31",
   "metadata": {},
   "outputs": [
    {
     "data": {
      "text/plain": [
       "0.934612031386225"
      ]
     },
     "execution_count": 20,
     "metadata": {},
     "output_type": "execute_result"
    }
   ],
   "source": [
    "# let's see the precision of our sgd clf;\n",
    "# precious = TP/TP+FP\n",
    "precision_score(y_train_7, y_train_pred)\n"
   ]
  },
  {
   "cell_type": "code",
   "execution_count": 21,
   "id": "961327f6",
   "metadata": {},
   "outputs": [
    {
     "data": {
      "text/plain": [
       "0.8555466879489226"
      ]
     },
     "execution_count": 21,
     "metadata": {},
     "output_type": "execute_result"
    }
   ],
   "source": [
    "# let's see the recall of our sgd clf;\n",
    "# recall = TP/TP+FN\n",
    "recall_score(y_train_7, y_train_pred)\n"
   ]
  },
  {
   "cell_type": "markdown",
   "id": "bc8425e1",
   "metadata": {},
   "source": [
    "Now our 7-detector does not look as shiny as before but i must say, its actually a good dectector of 7, "
   ]
  },
  {
   "cell_type": "markdown",
   "id": "1f448447",
   "metadata": {},
   "source": [
    "With precision of 0.9, for every 10 image it say are 7,    9 of it will be 7"
   ]
  },
  {
   "cell_type": "markdown",
   "id": "2929ee98",
   "metadata": {},
   "source": [
    "With recall of 0.85, it predict 85% of the seven correctly"
   ]
  },
  {
   "cell_type": "markdown",
   "id": "5e52b570",
   "metadata": {},
   "source": [
    "ww can even combine the two metric into a single one with F1 score"
   ]
  },
  {
   "cell_type": "code",
   "execution_count": 26,
   "id": "906212b5",
   "metadata": {},
   "outputs": [
    {
     "data": {
      "text/plain": [
       "0.8933333333333334"
      ]
     },
     "execution_count": 26,
     "metadata": {},
     "output_type": "execute_result"
    }
   ],
   "source": [
    "# output the F1 score of our model\n",
    "f1_score(y_train_7, y_train_pred)"
   ]
  },
  {
   "cell_type": "markdown",
   "id": "eb58948d",
   "metadata": {},
   "source": [
    "The F1 score favors classifiers that have similar precision and recall. This is not always what you want: in\n",
    "some contexts you mostly care about precision, and in other contexts you really care about recall.\n",
    "Unfortunately, you can’t have it both ways: increasing precision reduces recall, and vice versa. This is\n",
    "called the precision/recall tradeoff"
   ]
  },
  {
   "cell_type": "markdown",
   "id": "99716241",
   "metadata": {},
   "source": [
    "it's time to do more than just predict 7s,\n",
    "let's move to multi-classification task"
   ]
  },
  {
   "cell_type": "markdown",
   "id": "7967b2a2",
   "metadata": {},
   "source": [
    "Whereas binary classifiers distinguish between two classes, multiclass classifiers (also called multinomial\n",
    "classifiers) can distinguish between more than two classes.\n"
   ]
  },
  {
   "cell_type": "markdown",
   "id": "43c7438a",
   "metadata": {},
   "source": [
    "with the help sklearn, some binary classify can be use for multi-class classification,\n",
    "what sklearn does is train instances on many binary classify using one vs all or one vs one"
   ]
  },
  {
   "cell_type": "markdown",
   "id": "674cbbd2",
   "metadata": {},
   "source": [
    "let use sgd clf which is a binary classifier for multi-class classification"
   ]
  },
  {
   "cell_type": "code",
   "execution_count": 27,
   "id": "aa059660",
   "metadata": {},
   "outputs": [
    {
     "data": {
      "text/plain": [
       "array([7])"
      ]
     },
     "execution_count": 27,
     "metadata": {},
     "output_type": "execute_result"
    }
   ],
   "source": [
    "sgd_clf.fit(x_train, y_train)\n",
    "sgd_clf.predict([one_digit]) # output 7\n"
   ]
  },
  {
   "cell_type": "markdown",
   "id": "dd4af469",
   "metadata": {},
   "source": [
    "Training a multi-class RandomForestClassifier is just as easy:"
   ]
  },
  {
   "cell_type": "code",
   "execution_count": 30,
   "id": "8c31b231",
   "metadata": {},
   "outputs": [],
   "source": [
    "forest_clf = RandomForestClassifier(random_state=42)\n",
    "\n"
   ]
  },
  {
   "cell_type": "code",
   "execution_count": 31,
   "id": "fa34246e",
   "metadata": {},
   "outputs": [
    {
     "data": {
      "text/plain": [
       "array([7])"
      ]
     },
     "execution_count": 31,
     "metadata": {},
     "output_type": "execute_result"
    }
   ],
   "source": [
    "forest_clf.fit(x_train, y_train)\n",
    "forest_clf.predict([one_digit]) # output 7\n",
    "\n"
   ]
  },
  {
   "cell_type": "markdown",
   "id": "1eeccbee",
   "metadata": {},
   "source": [
    "Now of course it's time to evaluate these classifiers. As usual, let's evaluate the SGDClassifier’s accuracy using the cross_val_score() function:\n"
   ]
  },
  {
   "cell_type": "code",
   "execution_count": 32,
   "id": "09a5ca56",
   "metadata": {},
   "outputs": [
    {
     "ename": "NameError",
     "evalue": "name 'X_train' is not defined",
     "output_type": "error",
     "traceback": [
      "\u001b[0;31m---------------------------------------------------------------------------\u001b[0m",
      "\u001b[0;31mNameError\u001b[0m                                 Traceback (most recent call last)",
      "Input \u001b[0;32mIn [32]\u001b[0m, in \u001b[0;36m<cell line: 1>\u001b[0;34m()\u001b[0m\n\u001b[0;32m----> 1\u001b[0m cross_val_score(sgd_clf, \u001b[43mX_train\u001b[49m, y_train, cv\u001b[38;5;241m=\u001b[39m\u001b[38;5;241m3\u001b[39m, scoring\u001b[38;5;241m=\u001b[39m\u001b[38;5;124m\"\u001b[39m\u001b[38;5;124maccuracy\u001b[39m\u001b[38;5;124m\"\u001b[39m)\n",
      "\u001b[0;31mNameError\u001b[0m: name 'X_train' is not defined"
     ]
    }
   ],
   "source": [
    "cross_val_score(sgd_clf, x_train, y_train, cv=3, scoring=\"accuracy\")                    \n",
    "\n"
   ]
  }
 ],
 "metadata": {
  "kernelspec": {
   "display_name": "Python 3 (ipykernel)",
   "language": "python",
   "name": "python3"
  },
  "language_info": {
   "codemirror_mode": {
    "name": "ipython",
    "version": 3
   },
   "file_extension": ".py",
   "mimetype": "text/x-python",
   "name": "python",
   "nbconvert_exporter": "python",
   "pygments_lexer": "ipython3",
   "version": "3.9.7"
  }
 },
 "nbformat": 4,
 "nbformat_minor": 5
}

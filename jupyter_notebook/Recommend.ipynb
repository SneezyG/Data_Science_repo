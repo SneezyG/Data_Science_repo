{
 "cells": [
  {
   "cell_type": "markdown",
   "id": "6b50d7d2",
   "metadata": {},
   "source": [
    "Buiding a movies recommendation system using\n",
    "scikit-suprise.\n",
    "\n",
    "ML algorithm == k-Nearest Neighbours.\n",
    "\n",
    "Dataset == ml-100k built in suprise module."
   ]
  },
  {
   "cell_type": "code",
   "execution_count": 36,
   "id": "7e29d8ea",
   "metadata": {},
   "outputs": [],
   "source": [
    "# import the necessary tools\n",
    "import pandas as pd\n",
    "from surprise import Dataset\n",
    "from surprise import KNNWithMeans                         \n",
    "\n"
   ]
  },
  {
   "cell_type": "code",
   "execution_count": 37,
   "id": "32514a98",
   "metadata": {},
   "outputs": [],
   "source": [
    "# load the dataset,\n",
    "data = Dataset.load_builtin('ml-100k')                     \n"
   ]
  },
  {
   "cell_type": "code",
   "execution_count": 38,
   "id": "b6afaf70",
   "metadata": {},
   "outputs": [
    {
     "data": {
      "text/html": [
       "<div>\n",
       "<style scoped>\n",
       "    .dataframe tbody tr th:only-of-type {\n",
       "        vertical-align: middle;\n",
       "    }\n",
       "\n",
       "    .dataframe tbody tr th {\n",
       "        vertical-align: top;\n",
       "    }\n",
       "\n",
       "    .dataframe thead th {\n",
       "        text-align: right;\n",
       "    }\n",
       "</style>\n",
       "<table border=\"1\" class=\"dataframe\">\n",
       "  <thead>\n",
       "    <tr style=\"text-align: right;\">\n",
       "      <th></th>\n",
       "      <th>user_id</th>\n",
       "      <th>item_id</th>\n",
       "      <th>rating</th>\n",
       "      <th>timestamp</th>\n",
       "    </tr>\n",
       "  </thead>\n",
       "  <tbody>\n",
       "    <tr>\n",
       "      <th>0</th>\n",
       "      <td>196</td>\n",
       "      <td>242</td>\n",
       "      <td>3.0</td>\n",
       "      <td>881250949</td>\n",
       "    </tr>\n",
       "    <tr>\n",
       "      <th>1</th>\n",
       "      <td>186</td>\n",
       "      <td>302</td>\n",
       "      <td>3.0</td>\n",
       "      <td>891717742</td>\n",
       "    </tr>\n",
       "    <tr>\n",
       "      <th>2</th>\n",
       "      <td>22</td>\n",
       "      <td>377</td>\n",
       "      <td>1.0</td>\n",
       "      <td>878887116</td>\n",
       "    </tr>\n",
       "    <tr>\n",
       "      <th>3</th>\n",
       "      <td>244</td>\n",
       "      <td>51</td>\n",
       "      <td>2.0</td>\n",
       "      <td>880606923</td>\n",
       "    </tr>\n",
       "    <tr>\n",
       "      <th>4</th>\n",
       "      <td>166</td>\n",
       "      <td>346</td>\n",
       "      <td>1.0</td>\n",
       "      <td>886397596</td>\n",
       "    </tr>\n",
       "  </tbody>\n",
       "</table>\n",
       "</div>"
      ],
      "text/plain": [
       "  user_id item_id  rating  timestamp\n",
       "0     196     242     3.0  881250949\n",
       "1     186     302     3.0  891717742\n",
       "2      22     377     1.0  878887116\n",
       "3     244      51     2.0  880606923\n",
       "4     166     346     1.0  886397596"
      ]
     },
     "execution_count": 38,
     "metadata": {},
     "output_type": "execute_result"
    }
   ],
   "source": [
    "# view the dataset as a pandas dataframe.                                  \n",
    "frame = pd.DataFrame(data.__dict__['raw_ratings'], columns=['user_id','item_id','rating','timestamp'])                   \n",
    "frame.head()\n"
   ]
  },
  {
   "cell_type": "code",
   "execution_count": 39,
   "id": "b7dfd716",
   "metadata": {},
   "outputs": [
    {
     "data": {
      "text/html": [
       "<div>\n",
       "<style scoped>\n",
       "    .dataframe tbody tr th:only-of-type {\n",
       "        vertical-align: middle;\n",
       "    }\n",
       "\n",
       "    .dataframe tbody tr th {\n",
       "        vertical-align: top;\n",
       "    }\n",
       "\n",
       "    .dataframe thead th {\n",
       "        text-align: right;\n",
       "    }\n",
       "</style>\n",
       "<table border=\"1\" class=\"dataframe\">\n",
       "  <thead>\n",
       "    <tr style=\"text-align: right;\">\n",
       "      <th></th>\n",
       "      <th>user_id</th>\n",
       "      <th>item_id</th>\n",
       "      <th>rating</th>\n",
       "      <th>timestamp</th>\n",
       "    </tr>\n",
       "  </thead>\n",
       "  <tbody>\n",
       "    <tr>\n",
       "      <th>0</th>\n",
       "      <td>196</td>\n",
       "      <td>242</td>\n",
       "      <td>3.0</td>\n",
       "      <td>881250949</td>\n",
       "    </tr>\n",
       "    <tr>\n",
       "      <th>1</th>\n",
       "      <td>186</td>\n",
       "      <td>302</td>\n",
       "      <td>3.0</td>\n",
       "      <td>891717742</td>\n",
       "    </tr>\n",
       "    <tr>\n",
       "      <th>2</th>\n",
       "      <td>22</td>\n",
       "      <td>377</td>\n",
       "      <td>1.0</td>\n",
       "      <td>878887116</td>\n",
       "    </tr>\n",
       "    <tr>\n",
       "      <th>3</th>\n",
       "      <td>244</td>\n",
       "      <td>51</td>\n",
       "      <td>2.0</td>\n",
       "      <td>880606923</td>\n",
       "    </tr>\n",
       "    <tr>\n",
       "      <th>4</th>\n",
       "      <td>166</td>\n",
       "      <td>346</td>\n",
       "      <td>1.0</td>\n",
       "      <td>886397596</td>\n",
       "    </tr>\n",
       "    <tr>\n",
       "      <th>...</th>\n",
       "      <td>...</td>\n",
       "      <td>...</td>\n",
       "      <td>...</td>\n",
       "      <td>...</td>\n",
       "    </tr>\n",
       "    <tr>\n",
       "      <th>99995</th>\n",
       "      <td>880</td>\n",
       "      <td>476</td>\n",
       "      <td>3.0</td>\n",
       "      <td>880175444</td>\n",
       "    </tr>\n",
       "    <tr>\n",
       "      <th>99996</th>\n",
       "      <td>716</td>\n",
       "      <td>204</td>\n",
       "      <td>5.0</td>\n",
       "      <td>879795543</td>\n",
       "    </tr>\n",
       "    <tr>\n",
       "      <th>99997</th>\n",
       "      <td>276</td>\n",
       "      <td>1090</td>\n",
       "      <td>1.0</td>\n",
       "      <td>874795795</td>\n",
       "    </tr>\n",
       "    <tr>\n",
       "      <th>99998</th>\n",
       "      <td>13</td>\n",
       "      <td>225</td>\n",
       "      <td>2.0</td>\n",
       "      <td>882399156</td>\n",
       "    </tr>\n",
       "    <tr>\n",
       "      <th>99999</th>\n",
       "      <td>12</td>\n",
       "      <td>203</td>\n",
       "      <td>3.0</td>\n",
       "      <td>879959583</td>\n",
       "    </tr>\n",
       "  </tbody>\n",
       "</table>\n",
       "<p>100000 rows × 4 columns</p>\n",
       "</div>"
      ],
      "text/plain": [
       "      user_id item_id  rating  timestamp\n",
       "0         196     242     3.0  881250949\n",
       "1         186     302     3.0  891717742\n",
       "2          22     377     1.0  878887116\n",
       "3         244      51     2.0  880606923\n",
       "4         166     346     1.0  886397596\n",
       "...       ...     ...     ...        ...\n",
       "99995     880     476     3.0  880175444\n",
       "99996     716     204     5.0  879795543\n",
       "99997     276    1090     1.0  874795795\n",
       "99998      13     225     2.0  882399156\n",
       "99999      12     203     3.0  879959583\n",
       "\n",
       "[100000 rows x 4 columns]"
      ]
     },
     "execution_count": 39,
     "metadata": {},
     "output_type": "execute_result"
    }
   ],
   "source": [
    "# more broad view.        \n",
    "\n",
    "frame"
   ]
  },
  {
   "cell_type": "code",
   "execution_count": 40,
   "id": "03c3493b",
   "metadata": {},
   "outputs": [],
   "source": [
    "# building the the ml algorithm.                                                    \n",
    "params = {\n",
    "  \"name\": \"cosine\",\n",
    "  \"user_based\": False # compute similarity between items and not users.\n",
    "}\n",
    "\n",
    "algo = KNNWithMeans(sim_options=params)\n",
    "\n"
   ]
  },
  {
   "cell_type": "code",
   "execution_count": 41,
   "id": "934148c3",
   "metadata": {},
   "outputs": [
    {
     "data": {
      "text/plain": [
       "<surprise.trainset.Trainset at 0x71d37d1820>"
      ]
     },
     "execution_count": 41,
     "metadata": {},
     "output_type": "execute_result"
    }
   ],
   "source": [
    "# Seperate the trainset from the data.                                                               \n",
    "trainset = data.build_full_trainset()\n",
    "\n",
    "trainset                   \n"
   ]
  },
  {
   "cell_type": "code",
   "execution_count": 42,
   "id": "38d62464",
   "metadata": {},
   "outputs": [
    {
     "name": "stdout",
     "output_type": "stream",
     "text": [
      "Computing the cosine similarity matrix...\n",
      "Done computing similarity matrix.\n"
     ]
    },
    {
     "data": {
      "text/plain": [
       "<surprise.prediction_algorithms.knns.KNNWithMeans at 0x71d1c64220>"
      ]
     },
     "execution_count": 42,
     "metadata": {},
     "output_type": "execute_result"
    }
   ],
   "source": [
    "# train the ml algo.                                                         \n",
    "\n",
    "algo.fit(trainset)"
   ]
  },
  {
   "cell_type": "markdown",
   "id": "3dd6ffa4",
   "metadata": {},
   "source": [
    "What is left is to make some predictions.\n",
    "\n",
    "What the trained algo will be predicting is actually the ratings a user is likely to give to a new movie he/she hasn't watch yet.\n",
    "\n",
    "Applications can now use the predicted ratings to recommend the movie to the user.\n",
    "\n",
    "High rating signifying the movie will be recommended and vice-Versa.\n"
   ]
  },
  {
   "cell_type": "markdown",
   "id": "bebf23a3",
   "metadata": {},
   "source": [
    "we can play with the ml algo, by selecting a random rating, predict what the user would rate the movie and then compare it to the original rate."
   ]
  },
  {
   "cell_type": "code",
   "execution_count": 43,
   "id": "4c35eb25",
   "metadata": {},
   "outputs": [
    {
     "data": {
      "text/plain": [
       "user_id             32\n",
       "item_id            294\n",
       "rating             3.0\n",
       "timestamp    883709863\n",
       "Name: 100, dtype: object"
      ]
     },
     "execution_count": 43,
     "metadata": {},
     "output_type": "execute_result"
    }
   ],
   "source": [
    "# select a random rating\n",
    "ratings = frame.iloc[100]\n",
    "ratings\n"
   ]
  },
  {
   "cell_type": "code",
   "execution_count": 44,
   "id": "71150de0",
   "metadata": {},
   "outputs": [
    {
     "data": {
      "text/plain": [
       "2.9502425744709067"
      ]
     },
     "execution_count": 44,
     "metadata": {},
     "output_type": "execute_result"
    }
   ],
   "source": [
    "# make a prediction.  \n",
    "\n",
    "user = ratings.user_id\n",
    "item = ratings.item_id\n",
    "rate = ratings.rating\n",
    "timestamp = ratings.timestamp\n",
    "\n",
    "pred = algo.predict(user, item, timestamp)\n",
    "pred.est"
   ]
  },
  {
   "cell_type": "markdown",
   "id": "fb9f3fe3",
   "metadata": {},
   "source": [
    "hurray!!\n",
    "The prediction is closed.\n",
    "\n",
    "rating == 3.0\n",
    "predicted rating == 2.95\n",
    "\n",
    "we did it.\n",
    "But this is not enough assurance though, there is still need for performance scoring, params-tuning and validation test.\n",
    "\n"
   ]
  }
 ],
 "metadata": {
  "kernelspec": {
   "display_name": "Python 3 (ipykernel)",
   "language": "python",
   "name": "python3"
  },
  "language_info": {
   "codemirror_mode": {
    "name": "ipython",
    "version": 3
   },
   "file_extension": ".py",
   "mimetype": "text/x-python",
   "name": "python",
   "nbconvert_exporter": "python",
   "pygments_lexer": "ipython3",
   "version": "3.8.10"
  }
 },
 "nbformat": 4,
 "nbformat_minor": 5
}
